{
 "cells": [
  {
   "cell_type": "code",
   "execution_count": 55,
   "id": "ee82ee6c",
   "metadata": {},
   "outputs": [],
   "source": [
    "from ase.visualize import view\n",
    "\n",
    "from ase import units\n",
    "from gpaw import GPAW\n",
    "from ase.calculators.emt import EMT\n",
    "from ase.lattice.cubic import FaceCenteredCubic\n",
    "from ase.md.verlet import VelocityVerlet\n",
    "from ase.md.velocitydistribution import MaxwellBoltzmannDistribution"
   ]
  },
  {
   "cell_type": "markdown",
   "id": "1430b030",
   "metadata": {},
   "source": [
    "##### building structure"
   ]
  },
  {
   "cell_type": "code",
   "execution_count": 56,
   "id": "8fd403d1",
   "metadata": {},
   "outputs": [],
   "source": [
    "cu_strc = FaceCenteredCubic(\n",
    "    directions=[[1, 0, 0], [0, 1, 0], [0, 0, 1]], symbol=\"Cu\", size=(3, 3, 3), pbc=True\n",
    ")\n",
    "\n",
    "# view(cu_strc)"
   ]
  },
  {
   "cell_type": "code",
   "execution_count": 57,
   "id": "bb84cebc",
   "metadata": {},
   "outputs": [
    {
     "data": {
      "text/plain": [
       "Lattice(symbols='Cu108', pbc=True, cell=[10.83, 10.83, 10.83])"
      ]
     },
     "execution_count": 57,
     "metadata": {},
     "output_type": "execute_result"
    }
   ],
   "source": [
    "cu_strc"
   ]
  },
  {
   "cell_type": "code",
   "execution_count": 58,
   "id": "68e05fd2",
   "metadata": {},
   "outputs": [],
   "source": [
    "cu_strc.calc = EMT()"
   ]
  },
  {
   "cell_type": "code",
   "execution_count": 59,
   "id": "85ba4a11",
   "metadata": {},
   "outputs": [
    {
     "data": {
      "text/plain": [
       "Lattice(symbols='Cu108', pbc=True, cell=[10.83, 10.83, 10.83], calculator=EMT(...))"
      ]
     },
     "execution_count": 59,
     "metadata": {},
     "output_type": "execute_result"
    }
   ],
   "source": [
    "cu_strc"
   ]
  },
  {
   "cell_type": "code",
   "execution_count": 60,
   "id": "2ed98c94",
   "metadata": {},
   "outputs": [],
   "source": [
    "MaxwellBoltzmannDistribution(atoms=cu_strc, temperature_K=300)"
   ]
  },
  {
   "cell_type": "code",
   "execution_count": 61,
   "id": "e302f5e7",
   "metadata": {},
   "outputs": [
    {
     "data": {
      "text/plain": [
       "Lattice(symbols='Cu108', pbc=True, cell=[10.83, 10.83, 10.83], momenta=..., calculator=EMT(...))"
      ]
     },
     "execution_count": 61,
     "metadata": {},
     "output_type": "execute_result"
    }
   ],
   "source": [
    "cu_strc"
   ]
  },
  {
   "cell_type": "code",
   "execution_count": 62,
   "id": "ae117d5f",
   "metadata": {},
   "outputs": [],
   "source": [
    "dyn = VelocityVerlet(cu_strc, 5 * units.fs, trajectory='cu_strc.traj')"
   ]
  },
  {
   "cell_type": "code",
   "execution_count": 63,
   "id": "95c2cd33",
   "metadata": {},
   "outputs": [],
   "source": [
    "def printenergy(a):\n",
    "    \"\"\"Function to print the potential, kinetic and total energy\"\"\"\n",
    "    epot = a.get_potential_energy() / len(a)\n",
    "    ekin = a.get_kinetic_energy() / len(a)\n",
    "    print(\n",
    "        f'Energy per atom: Epot ={epot:6.3f}eV  Ekin = {ekin:.3f}eV '\n",
    "        f'(T={ekin / (1.5 * units.kB):3.0f}K) Etot = {epot + ekin:.3f}eV'\n",
    "    )"
   ]
  },
  {
   "cell_type": "code",
   "execution_count": 64,
   "id": "c554ddcb",
   "metadata": {},
   "outputs": [
    {
     "name": "stdout",
     "output_type": "stream",
     "text": [
      "Energy per atom: Epot =-0.006eV  Ekin = 0.039eV (T=303K) Etot = 0.033eV\n"
     ]
    },
    {
     "name": "stdout",
     "output_type": "stream",
     "text": [
      "Energy per atom: Epot = 0.025eV  Ekin = 0.009eV (T= 68K) Etot = 0.034eV\n",
      "Energy per atom: Epot = 0.014eV  Ekin = 0.020eV (T=151K) Etot = 0.034eV\n",
      "Energy per atom: Epot = 0.013eV  Ekin = 0.020eV (T=157K) Etot = 0.034eV\n",
      "Energy per atom: Epot = 0.011eV  Ekin = 0.023eV (T=177K) Etot = 0.034eV\n",
      "Energy per atom: Epot = 0.016eV  Ekin = 0.018eV (T=137K) Etot = 0.034eV\n",
      "Energy per atom: Epot = 0.015eV  Ekin = 0.019eV (T=145K) Etot = 0.034eV\n",
      "Energy per atom: Epot = 0.011eV  Ekin = 0.023eV (T=178K) Etot = 0.034eV\n",
      "Energy per atom: Epot = 0.017eV  Ekin = 0.016eV (T=126K) Etot = 0.034eV\n",
      "Energy per atom: Epot = 0.010eV  Ekin = 0.023eV (T=178K) Etot = 0.034eV\n",
      "Energy per atom: Epot = 0.015eV  Ekin = 0.019eV (T=144K) Etot = 0.034eV\n",
      "Energy per atom: Epot = 0.014eV  Ekin = 0.020eV (T=151K) Etot = 0.034eV\n",
      "Energy per atom: Epot = 0.017eV  Ekin = 0.017eV (T=130K) Etot = 0.034eV\n",
      "Energy per atom: Epot = 0.007eV  Ekin = 0.027eV (T=208K) Etot = 0.034eV\n",
      "Energy per atom: Epot = 0.021eV  Ekin = 0.013eV (T=101K) Etot = 0.034eV\n",
      "Energy per atom: Epot = 0.010eV  Ekin = 0.023eV (T=181K) Etot = 0.034eV\n",
      "Energy per atom: Epot = 0.016eV  Ekin = 0.018eV (T=138K) Etot = 0.034eV\n",
      "Energy per atom: Epot = 0.013eV  Ekin = 0.021eV (T=160K) Etot = 0.034eV\n",
      "Energy per atom: Epot = 0.015eV  Ekin = 0.019eV (T=148K) Etot = 0.034eV\n",
      "Energy per atom: Epot = 0.013eV  Ekin = 0.020eV (T=155K) Etot = 0.034eV\n",
      "Energy per atom: Epot = 0.014eV  Ekin = 0.020eV (T=152K) Etot = 0.034eV\n",
      "Energy per atom: Epot = 0.015eV  Ekin = 0.018eV (T=142K) Etot = 0.034eV\n",
      "Energy per atom: Epot = 0.011eV  Ekin = 0.023eV (T=177K) Etot = 0.034eV\n",
      "Energy per atom: Epot = 0.016eV  Ekin = 0.018eV (T=136K) Etot = 0.034eV\n",
      "Energy per atom: Epot = 0.012eV  Ekin = 0.021eV (T=164K) Etot = 0.034eV\n",
      "Energy per atom: Epot = 0.016eV  Ekin = 0.017eV (T=132K) Etot = 0.034eV\n",
      "Energy per atom: Epot = 0.010eV  Ekin = 0.024eV (T=183K) Etot = 0.034eV\n",
      "Energy per atom: Epot = 0.018eV  Ekin = 0.016eV (T=124K) Etot = 0.034eV\n",
      "Energy per atom: Epot = 0.011eV  Ekin = 0.022eV (T=172K) Etot = 0.034eV\n",
      "Energy per atom: Epot = 0.016eV  Ekin = 0.018eV (T=139K) Etot = 0.034eV\n",
      "Energy per atom: Epot = 0.014eV  Ekin = 0.020eV (T=152K) Etot = 0.034eV\n"
     ]
    }
   ],
   "source": [
    "printenergy(cu_strc)\n",
    "for i in range(30):\n",
    "    dyn.run(10)\n",
    "    printenergy(cu_strc)"
   ]
  },
  {
   "cell_type": "code",
   "execution_count": 72,
   "id": "0426a7d7",
   "metadata": {},
   "outputs": [],
   "source": [
    "from ase.io.trajectory import read_traj, Trajectory"
   ]
  },
  {
   "cell_type": "code",
   "execution_count": null,
   "id": "d9a4d590",
   "metadata": {},
   "outputs": [
    {
     "data": {
      "text/plain": [
       "<Popen: returncode: None args: ['/home/cer/.ase_venv/bin/python', '-m', 'ase...>"
      ]
     },
     "execution_count": 74,
     "metadata": {},
     "output_type": "execute_result"
    },
    {
     "name": "stderr",
     "output_type": "stream",
     "text": [
      "Traceback (most recent call last):\n",
      "  File \"<frozen runpy>\", line 198, in _run_module_as_main\n",
      "  File \"<frozen runpy>\", line 88, in _run_code\n",
      "  File \"/home/cer/.ase_venv/lib/python3.12/site-packages/ase/gui/pipe.py\", line 34, in <module>\n",
      "    main()\n",
      "  File \"/home/cer/.ase_venv/lib/python3.12/site-packages/ase/gui/pipe.py\", line 30, in main\n",
      "    plt.show()\n",
      "  File \"/home/cer/.ase_venv/lib/python3.12/site-packages/matplotlib/pyplot.py\", line 613, in show\n",
      "    return _get_backend_mod().show(*args, **kwargs)\n",
      "           ^^^^^^^^^^^^^^^^^^^^^^^^^^^^^^^^^^^^^^^^\n",
      "  File \"/home/cer/.ase_venv/lib/python3.12/site-packages/matplotlib_inline/backend_inline.py\", line 90, in show\n",
      "    display(\n",
      "  File \"/home/cer/.ase_venv/lib/python3.12/site-packages/IPython/core/display_functions.py\", line 245, in display\n",
      "    print(*objs)\n",
      "ValueError: I/O operation on closed file.\n"
     ]
    }
   ],
   "source": [
    "traj = Trajectory('cu_strc.traj')\n",
    "\n",
    "view(traj)"
   ]
  },
  {
   "cell_type": "code",
   "execution_count": 70,
   "id": "8662d77c",
   "metadata": {},
   "outputs": [
    {
     "ename": "AttributeError",
     "evalue": "'list' object has no attribute 'indices'",
     "output_type": "error",
     "traceback": [
      "\u001b[31m---------------------------------------------------------------------------\u001b[39m",
      "\u001b[31mAttributeError\u001b[39m                            Traceback (most recent call last)",
      "\u001b[36mCell\u001b[39m\u001b[36m \u001b[39m\u001b[32mIn[70]\u001b[39m\u001b[32m, line 3\u001b[39m\n\u001b[32m      1\u001b[39m filee  = read_traj(\u001b[33m'\u001b[39m\u001b[33mcu_strc.traj\u001b[39m\u001b[33m'\u001b[39m, index=[\u001b[33m'\u001b[39m\u001b[33m@:\u001b[39m\u001b[33m'\u001b[39m])\n\u001b[32m----> \u001b[39m\u001b[32m3\u001b[39m \u001b[43mview\u001b[49m\u001b[43m(\u001b[49m\u001b[43mfilee\u001b[49m\u001b[43m)\u001b[49m\n",
      "\u001b[36mFile \u001b[39m\u001b[32m~/.ase_venv/lib/python3.12/site-packages/ase/visualize/__init__.py:13\u001b[39m, in \u001b[36mview\u001b[39m\u001b[34m(atoms, data, viewer, repeat, block, **kwargs)\u001b[39m\n\u001b[32m     10\u001b[39m     \u001b[38;5;28;01mreturn\u001b[39;00m \u001b[38;5;28;01mNone\u001b[39;00m\n\u001b[32m     12\u001b[39m vwr = VIEWERS[viewer.lower()]\n\u001b[32m---> \u001b[39m\u001b[32m13\u001b[39m handle = \u001b[43mvwr\u001b[49m\u001b[43m.\u001b[49m\u001b[43mview\u001b[49m\u001b[43m(\u001b[49m\u001b[43matoms\u001b[49m\u001b[43m,\u001b[49m\u001b[43m \u001b[49m\u001b[43mdata\u001b[49m\u001b[43m=\u001b[49m\u001b[43mdata\u001b[49m\u001b[43m,\u001b[49m\u001b[43m \u001b[49m\u001b[43mrepeat\u001b[49m\u001b[43m=\u001b[49m\u001b[43mrepeat\u001b[49m\u001b[43m,\u001b[49m\u001b[43m \u001b[49m\u001b[43m*\u001b[49m\u001b[43m*\u001b[49m\u001b[43mkwargs\u001b[49m\u001b[43m)\u001b[49m\n\u001b[32m     15\u001b[39m \u001b[38;5;28;01mif\u001b[39;00m block \u001b[38;5;129;01mand\u001b[39;00m \u001b[38;5;28mhasattr\u001b[39m(handle, \u001b[33m'\u001b[39m\u001b[33mwait\u001b[39m\u001b[33m'\u001b[39m):\n\u001b[32m     16\u001b[39m     status = handle.wait()\n",
      "\u001b[36mFile \u001b[39m\u001b[32m~/.ase_venv/lib/python3.12/site-packages/ase/visualize/viewers.py:145\u001b[39m, in \u001b[36m_pipe_to_ase_gui\u001b[39m\u001b[34m(atoms, repeat, **kwargs)\u001b[39m\n\u001b[32m    143\u001b[39m \u001b[38;5;28;01mdef\u001b[39;00m\u001b[38;5;250m \u001b[39m\u001b[34m_pipe_to_ase_gui\u001b[39m(atoms, repeat, **kwargs):\n\u001b[32m    144\u001b[39m     buf = BytesIO()\n\u001b[32m--> \u001b[39m\u001b[32m145\u001b[39m     \u001b[43mwrite\u001b[49m\u001b[43m(\u001b[49m\u001b[43mbuf\u001b[49m\u001b[43m,\u001b[49m\u001b[43m \u001b[49m\u001b[43matoms\u001b[49m\u001b[43m,\u001b[49m\u001b[43m \u001b[49m\u001b[38;5;28;43mformat\u001b[39;49m\u001b[43m=\u001b[49m\u001b[33;43m\"\u001b[39;49m\u001b[33;43mtraj\u001b[39;49m\u001b[33;43m\"\u001b[39;49m\u001b[43m)\u001b[49m\n\u001b[32m    147\u001b[39m     args = [sys.executable, \u001b[33m\"\u001b[39m\u001b[33m-m\u001b[39m\u001b[33m\"\u001b[39m, \u001b[33m\"\u001b[39m\u001b[33mase\u001b[39m\u001b[33m\"\u001b[39m, \u001b[33m\"\u001b[39m\u001b[33mgui\u001b[39m\u001b[33m\"\u001b[39m, \u001b[33m\"\u001b[39m\u001b[33m-\u001b[39m\u001b[33m\"\u001b[39m]\n\u001b[32m    148\u001b[39m     \u001b[38;5;28;01mif\u001b[39;00m repeat:\n",
      "\u001b[36mFile \u001b[39m\u001b[32m~/.ase_venv/lib/python3.12/site-packages/ase/io/formats.py:686\u001b[39m, in \u001b[36mwrite\u001b[39m\u001b[34m(filename, images, format, parallel, append, **kwargs)\u001b[39m\n\u001b[32m    682\u001b[39m \u001b[38;5;28mformat\u001b[39m = \u001b[38;5;28mformat\u001b[39m \u001b[38;5;129;01mor\u001b[39;00m \u001b[33m'\u001b[39m\u001b[33mjson\u001b[39m\u001b[33m'\u001b[39m  \u001b[38;5;66;03m# default is json\u001b[39;00m\n\u001b[32m    684\u001b[39m io = get_ioformat(\u001b[38;5;28mformat\u001b[39m)\n\u001b[32m--> \u001b[39m\u001b[32m686\u001b[39m \u001b[38;5;28;01mreturn\u001b[39;00m \u001b[43m_write\u001b[49m\u001b[43m(\u001b[49m\u001b[43mfilename\u001b[49m\u001b[43m,\u001b[49m\u001b[43m \u001b[49m\u001b[43mfd\u001b[49m\u001b[43m,\u001b[49m\u001b[43m \u001b[49m\u001b[38;5;28;43mformat\u001b[39;49m\u001b[43m,\u001b[49m\u001b[43m \u001b[49m\u001b[43mio\u001b[49m\u001b[43m,\u001b[49m\u001b[43m \u001b[49m\u001b[43mimages\u001b[49m\u001b[43m,\u001b[49m\n\u001b[32m    687\u001b[39m \u001b[43m              \u001b[49m\u001b[43mparallel\u001b[49m\u001b[43m=\u001b[49m\u001b[43mparallel\u001b[49m\u001b[43m,\u001b[49m\u001b[43m \u001b[49m\u001b[43mappend\u001b[49m\u001b[43m=\u001b[49m\u001b[43mappend\u001b[49m\u001b[43m,\u001b[49m\u001b[43m \u001b[49m\u001b[43m*\u001b[49m\u001b[43m*\u001b[49m\u001b[43mkwargs\u001b[49m\u001b[43m)\u001b[49m\n",
      "\u001b[36mFile \u001b[39m\u001b[32m~/.ase_venv/lib/python3.12/site-packages/ase/parallel.py:261\u001b[39m, in \u001b[36mparallel_function.<locals>.new_func\u001b[39m\u001b[34m(*args, **kwargs)\u001b[39m\n\u001b[32m    255\u001b[39m \u001b[38;5;129m@functools\u001b[39m.wraps(func)\n\u001b[32m    256\u001b[39m \u001b[38;5;28;01mdef\u001b[39;00m\u001b[38;5;250m \u001b[39m\u001b[34mnew_func\u001b[39m(*args, **kwargs):\n\u001b[32m    257\u001b[39m     \u001b[38;5;28;01mif\u001b[39;00m (world.size == \u001b[32m1\u001b[39m \u001b[38;5;129;01mor\u001b[39;00m\n\u001b[32m    258\u001b[39m         args \u001b[38;5;129;01mand\u001b[39;00m \u001b[38;5;28mgetattr\u001b[39m(args[\u001b[32m0\u001b[39m], \u001b[33m'\u001b[39m\u001b[33mserial\u001b[39m\u001b[33m'\u001b[39m, \u001b[38;5;28;01mFalse\u001b[39;00m) \u001b[38;5;129;01mor\u001b[39;00m\n\u001b[32m    259\u001b[39m             \u001b[38;5;129;01mnot\u001b[39;00m kwargs.pop(\u001b[33m'\u001b[39m\u001b[33mparallel\u001b[39m\u001b[33m'\u001b[39m, \u001b[38;5;28;01mTrue\u001b[39;00m)):\n\u001b[32m    260\u001b[39m         \u001b[38;5;66;03m# Disable:\u001b[39;00m\n\u001b[32m--> \u001b[39m\u001b[32m261\u001b[39m         \u001b[38;5;28;01mreturn\u001b[39;00m \u001b[43mfunc\u001b[49m\u001b[43m(\u001b[49m\u001b[43m*\u001b[49m\u001b[43margs\u001b[49m\u001b[43m,\u001b[49m\u001b[43m \u001b[49m\u001b[43m*\u001b[49m\u001b[43m*\u001b[49m\u001b[43mkwargs\u001b[49m\u001b[43m)\u001b[49m\n\u001b[32m    263\u001b[39m     ex = \u001b[38;5;28;01mNone\u001b[39;00m\n\u001b[32m    264\u001b[39m     result = \u001b[38;5;28;01mNone\u001b[39;00m\n",
      "\u001b[36mFile \u001b[39m\u001b[32m~/.ase_venv/lib/python3.12/site-packages/ase/io/formats.py:722\u001b[39m, in \u001b[36m_write\u001b[39m\u001b[34m(filename, fd, format, io, images, parallel, append, **kwargs)\u001b[39m\n\u001b[32m    719\u001b[39m         fd = open_with_compression(filename, mode)\n\u001b[32m    720\u001b[39m         \u001b[38;5;66;03m# XXX remember to re-enable compressed open\u001b[39;00m\n\u001b[32m    721\u001b[39m         \u001b[38;5;66;03m# fd = io.open(filename, mode)\u001b[39;00m\n\u001b[32m--> \u001b[39m\u001b[32m722\u001b[39m     \u001b[38;5;28;01mreturn\u001b[39;00m \u001b[43mio\u001b[49m\u001b[43m.\u001b[49m\u001b[43mwrite\u001b[49m\u001b[43m(\u001b[49m\u001b[43mfd\u001b[49m\u001b[43m,\u001b[49m\u001b[43m \u001b[49m\u001b[43mimages\u001b[49m\u001b[43m,\u001b[49m\u001b[43m \u001b[49m\u001b[43m*\u001b[49m\u001b[43m*\u001b[49m\u001b[43mkwargs\u001b[49m\u001b[43m)\u001b[49m\n\u001b[32m    723\u001b[39m \u001b[38;5;28;01mfinally\u001b[39;00m:\n\u001b[32m    724\u001b[39m     \u001b[38;5;28;01mif\u001b[39;00m open_new \u001b[38;5;129;01mand\u001b[39;00m fd \u001b[38;5;129;01mis\u001b[39;00m \u001b[38;5;129;01mnot\u001b[39;00m \u001b[38;5;28;01mNone\u001b[39;00m:\n",
      "\u001b[36mFile \u001b[39m\u001b[32m~/.ase_venv/lib/python3.12/site-packages/ase/io/formats.py:183\u001b[39m, in \u001b[36mIOFormat._write_wrapper\u001b[39m\u001b[34m(self, *args, **kwargs)\u001b[39m\n\u001b[32m    181\u001b[39m \u001b[38;5;28;01mif\u001b[39;00m function \u001b[38;5;129;01mis\u001b[39;00m \u001b[38;5;28;01mNone\u001b[39;00m:\n\u001b[32m    182\u001b[39m     \u001b[38;5;28;01mraise\u001b[39;00m \u001b[38;5;167;01mValueError\u001b[39;00m(\u001b[33mf\u001b[39m\u001b[33m'\u001b[39m\u001b[33mCannot write to \u001b[39m\u001b[38;5;132;01m{\u001b[39;00m\u001b[38;5;28mself\u001b[39m.name\u001b[38;5;132;01m}\u001b[39;00m\u001b[33m-format\u001b[39m\u001b[33m'\u001b[39m)\n\u001b[32m--> \u001b[39m\u001b[32m183\u001b[39m \u001b[38;5;28;01mreturn\u001b[39;00m \u001b[43mfunction\u001b[49m\u001b[43m(\u001b[49m\u001b[43m*\u001b[49m\u001b[43margs\u001b[49m\u001b[43m,\u001b[49m\u001b[43m \u001b[49m\u001b[43m*\u001b[49m\u001b[43m*\u001b[49m\u001b[43mkwargs\u001b[49m\u001b[43m)\u001b[49m\n",
      "\u001b[36mFile \u001b[39m\u001b[32m~/.ase_venv/lib/python3.12/site-packages/ase/io/trajectory.py:454\u001b[39m, in \u001b[36mwrite_traj\u001b[39m\u001b[34m(fd, images)\u001b[39m\n\u001b[32m    452\u001b[39m \u001b[38;5;28;01mwith\u001b[39;00m defer_compression(fd) \u001b[38;5;28;01mas\u001b[39;00m fd_uncompressed:\n\u001b[32m    453\u001b[39m     trj = TrajectoryWriter(fd_uncompressed)\n\u001b[32m--> \u001b[39m\u001b[32m454\u001b[39m \u001b[43m    \u001b[49m\u001b[38;5;28;43;01mfor\u001b[39;49;00m\u001b[43m \u001b[49m\u001b[43matoms\u001b[49m\u001b[43m \u001b[49m\u001b[38;5;129;43;01min\u001b[39;49;00m\u001b[43m \u001b[49m\u001b[43mimages\u001b[49m\u001b[43m:\u001b[49m\n\u001b[32m    455\u001b[39m \u001b[43m        \u001b[49m\u001b[43mtrj\u001b[49m\u001b[43m.\u001b[49m\u001b[43mwrite\u001b[49m\u001b[43m(\u001b[49m\u001b[43matoms\u001b[49m\u001b[43m)\u001b[49m\n",
      "\u001b[36mFile \u001b[39m\u001b[32m~/.ase_venv/lib/python3.12/site-packages/ase/io/trajectory.py:424\u001b[39m, in \u001b[36mread_traj\u001b[39m\u001b[34m(fd, index)\u001b[39m\n\u001b[32m    422\u001b[39m \u001b[38;5;28;01mdef\u001b[39;00m\u001b[38;5;250m \u001b[39m\u001b[34mread_traj\u001b[39m(fd, index):\n\u001b[32m    423\u001b[39m     trj = TrajectoryReader(fd)\n\u001b[32m--> \u001b[39m\u001b[32m424\u001b[39m     \u001b[38;5;28;01mfor\u001b[39;00m i \u001b[38;5;129;01min\u001b[39;00m \u001b[38;5;28mrange\u001b[39m(*\u001b[43mindex\u001b[49m\u001b[43m.\u001b[49m\u001b[43mindices\u001b[49m(\u001b[38;5;28mlen\u001b[39m(trj))):\n\u001b[32m    425\u001b[39m         \u001b[38;5;28;01myield\u001b[39;00m trj[i]\n",
      "\u001b[31mAttributeError\u001b[39m: 'list' object has no attribute 'indices'"
     ]
    }
   ],
   "source": [
    "filee  = read_traj('cu_strc.traj', index=['@:'])\n",
    "\n",
    "view(filee)"
   ]
  }
 ],
 "metadata": {
  "kernelspec": {
   "display_name": ".ase_venv (3.12.3)",
   "language": "python",
   "name": "python3"
  },
  "language_info": {
   "codemirror_mode": {
    "name": "ipython",
    "version": 3
   },
   "file_extension": ".py",
   "mimetype": "text/x-python",
   "name": "python",
   "nbconvert_exporter": "python",
   "pygments_lexer": "ipython3",
   "version": "3.12.3"
  }
 },
 "nbformat": 4,
 "nbformat_minor": 5
}
