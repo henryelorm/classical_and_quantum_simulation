{
 "cells": [
  {
   "cell_type": "code",
   "execution_count": 1,
   "metadata": {},
   "outputs": [],
   "source": [
    "import numpy as np"
   ]
  },
  {
   "cell_type": "markdown",
   "metadata": {},
   "source": [
    "### Generating normal bccs structures"
   ]
  },
  {
   "cell_type": "code",
   "execution_count": null,
   "metadata": {},
   "outputs": [],
   "source": [
    "def generate_bcc_poscar(lattice_constant=3.0, nx=1, ny=1, nz=1, element=\"Fe\", filename=\"POSCAR\"):\n",
    "    \"\"\"\n",
    "    Generate a POSCAR file for a BCC crystal structure.\n",
    "\n",
    "    Parameters:\n",
    "    - lattice_constant: Length of the cubic unit cell edge (in Angstroms).\n",
    "    - nx, ny, nz: Number of unit cell repetitions along x, y, z axes.\n",
    "    - element: Chemical symbol of the element (e.g., \"Fe\" for iron).\n",
    "    - filename: Output POSCAR file name.\n",
    "    \"\"\"\n",
    "    # Define the conventional BCC unit cell lattice vectors\n",
    "    lattice_vectors = lattice_constant * np.array([\n",
    "        [1.0, 0.0, 0.0],\n",
    "        [0.0, 1.0, 0.0],\n",
    "        [0.0, 0.0, 1.0]\n",
    "    ])\n",
    "\n",
    "    # Scale lattice vectors for supercell\n",
    "    supercell_vectors = lattice_vectors * np.array([nx, ny, nz]).reshape(1, 3)\n",
    "\n",
    "    # Basis atoms in fractional coordinates (for conventional BCC unit cell)\n",
    "    basis_positions = np.array([\n",
    "        [0.0, 0.0, 0.0],\n",
    "        [0.5, 0.5, 0.5]\n",
    "    ])\n",
    "\n",
    "    # Generate atomic positions for the supercell\n",
    "    atom_positions = []\n",
    "    for i in range(nx):\n",
    "        for j in range(ny):\n",
    "            for k in range(nz):\n",
    "                for pos in basis_positions:\n",
    "                    frac_pos = pos + np.array([i, j, k])\n",
    "                    frac_pos = frac_pos / np.array([nx, ny, nz])\n",
    "                    atom_positions.append(frac_pos)\n",
    "\n",
    "    atom_positions = np.array(atom_positions)\n",
    "    num_atoms = len(atom_positions)\n",
    "\n",
    "    # Write to POSCAR file\n",
    "    with open(filename, 'w') as f:\n",
    "\n",
    "        f.write(f\"BCC {element} supercell ({nx}x{ny}x{nz})\\n\")\n",
    "        f.write(\"1.0\\n\")\n",
    "        for vec in supercell_vectors:\n",
    "            f.write(f\"  {vec[0]:.10f}  {vec[1]:.10f}  {vec[2]:.10f}\\n\")\n",
    "        f.write(f\"{element}  \\n{num_atoms}\\n\")\n",
    "        f.write(\"Direct\\n\")\n",
    "        for pos in atom_positions:\n",
    "            f.write(f\"  {pos[0]:.10f}  {pos[1]:.10f}  {pos[2]:.10f}\\n\")"
   ]
  },
  {
   "cell_type": "code",
   "execution_count": 6,
   "metadata": {},
   "outputs": [
    {
     "name": "stdout",
     "output_type": "stream",
     "text": [
      "POSCAR file generated: POSCAR_bcc.vasp\n"
     ]
    }
   ],
   "source": [
    "a = 2.87  # \n",
    "nx, ny, nz = 2, 2, 2\n",
    "element = \"Fe\"\n",
    "filename = \"POSCAR_bcc.vasp\"\n",
    "    \n",
    "generate_bcc_poscar(lattice_constant=a, nx=nx, ny=ny, nz=nz, element=element, filename=filename)\n",
    "print(f\"POSCAR file generated: {filename}\")"
   ]
  },
  {
   "cell_type": "markdown",
   "metadata": {},
   "source": [
    "## Usng ASE"
   ]
  },
  {
   "cell_type": "code",
   "execution_count": 1,
   "metadata": {},
   "outputs": [],
   "source": [
    "from ase import Atoms\n",
    "from ase.spacegroup import crystal, get_basis\n",
    "from ase.build import bulk, molecule, fcc111, diamond100, diamond111, graphene\n",
    "from ase.visualize import view\n",
    "\n",
    "from ase.io.vasp import read_vasp"
   ]
  },
  {
   "cell_type": "code",
   "execution_count": 2,
   "metadata": {},
   "outputs": [
    {
     "data": {
      "text/plain": [
       "<Popen: returncode: None args: ['c:\\\\Users\\\\Acer\\\\anaconda3\\\\python.exe', '-...>"
      ]
     },
     "execution_count": 2,
     "metadata": {},
     "output_type": "execute_result"
    }
   ],
   "source": [
    "struct =  read_vasp(file='Mo.vasp')\n",
    "view(struct)"
   ]
  },
  {
   "cell_type": "code",
   "execution_count": 3,
   "metadata": {},
   "outputs": [
    {
     "data": {
      "text/plain": [
       "<Popen: returncode: None args: ['c:\\\\Users\\\\Acer\\\\anaconda3\\\\python.exe', '-...>"
      ]
     },
     "execution_count": 3,
     "metadata": {},
     "output_type": "execute_result"
    }
   ],
   "source": [
    "grap =  diamond100(a=5.44, symbol='Si', size=(10, 10, 3), vacuum=10)\n",
    "view(grap)"
   ]
  },
  {
   "cell_type": "code",
   "execution_count": 25,
   "metadata": {},
   "outputs": [
    {
     "data": {
      "text/plain": [
       "<Popen: returncode: None args: ['c:\\\\Users\\\\Acer\\\\anaconda3\\\\python.exe', '-...>"
      ]
     },
     "execution_count": 25,
     "metadata": {},
     "output_type": "execute_result"
    }
   ],
   "source": [
    "stuct = bulk('Cu', 'fcc', a=3.6, )\n",
    "view(stuct)"
   ]
  },
  {
   "cell_type": "code",
   "execution_count": 30,
   "metadata": {},
   "outputs": [
    {
     "data": {
      "text/plain": [
       "array([[ 0.      ,  0.      ,  0.315026],\n",
       "       [ 0.      , -0.76792 , -0.932032],\n",
       "       [ 0.      ,  0.76792 , -0.932032],\n",
       "       [ 0.      ,  0.      ,  1.640027],\n",
       "       [-0.912794, -1.271789, -1.239303],\n",
       "       [ 0.912794, -1.271789, -1.239303],\n",
       "       [ 0.912794,  1.271789, -1.239303],\n",
       "       [-0.912794,  1.271789, -1.239303],\n",
       "       [ 0.      , -0.926908,  2.20564 ],\n",
       "       [ 0.      ,  0.926908,  2.20564 ]])"
      ]
     },
     "execution_count": 30,
     "metadata": {},
     "output_type": "execute_result"
    }
   ],
   "source": [
    "atoms = molecule('methylenecyclopropane')\n",
    "# view(atoms)\n",
    "atoms.positions"
   ]
  },
  {
   "cell_type": "code",
   "execution_count": 14,
   "metadata": {},
   "outputs": [
    {
     "data": {
      "text/plain": [
       "<Popen: returncode: None args: ['c:\\\\Users\\\\Acer\\\\anaconda3\\\\python.exe', '-...>"
      ]
     },
     "execution_count": 14,
     "metadata": {},
     "output_type": "execute_result"
    }
   ],
   "source": [
    "view(stuct)"
   ]
  },
  {
   "cell_type": "code",
   "execution_count": 4,
   "metadata": {},
   "outputs": [
    {
     "data": {
      "text/plain": [
       "<Popen: returncode: None args: ['c:\\\\Users\\\\Acer\\\\anaconda3\\\\python.exe', '-...>"
      ]
     },
     "execution_count": 4,
     "metadata": {},
     "output_type": "execute_result"
    }
   ],
   "source": [
    "h2 = Atoms('H2',positions=[[0, 0, 0], [0, 0, 0.7]])\n",
    "view(h2)"
   ]
  },
  {
   "cell_type": "code",
   "execution_count": 5,
   "metadata": {},
   "outputs": [],
   "source": [
    "slab = diamond111('Si', size=(4,4,3), vacuum=10.0)\n",
    "\n",
    "# write_vasp(atoms=a3, file='poscar')"
   ]
  },
  {
   "cell_type": "code",
   "execution_count": 6,
   "metadata": {},
   "outputs": [
    {
     "data": {
      "text/plain": [
       "<Popen: returncode: None args: ['c:\\\\Users\\\\Acer\\\\anaconda3\\\\python.exe', '-...>"
      ]
     },
     "execution_count": 6,
     "metadata": {},
     "output_type": "execute_result"
    }
   ],
   "source": [
    "# atoms = molecule('methylenecyclopropane')\n",
    "view(slab)"
   ]
  },
  {
   "cell_type": "code",
   "execution_count": null,
   "metadata": {},
   "outputs": [
    {
     "data": {
      "text/plain": [
       "<Popen: returncode: None args: ['c:\\\\Users\\\\Acer\\\\anaconda3\\\\python.exe', '-...>"
      ]
     },
     "execution_count": 7,
     "metadata": {},
     "output_type": "execute_result"
    }
   ],
   "source": [
    "diamond = crystal('C', [(0,0,0)], spacegroup=227,\n",
    "    cellpar=[3.57, 3.57, 3.57, 90, 90, 90], size=(2,1,1), )\n",
    "\n",
    "view(diamond)"
   ]
  },
  {
   "cell_type": "markdown",
   "metadata": {},
   "source": [
    "## PYMATGEN"
   ]
  },
  {
   "cell_type": "markdown",
   "metadata": {},
   "source": [
    "<img src=\"pymatgen.jpg\" alt=\"Girl in a jacket\" width=\"800\" height=\"500\">"
   ]
  }
 ],
 "metadata": {
  "kernelspec": {
   "display_name": "base",
   "language": "python",
   "name": "python3"
  },
  "language_info": {
   "codemirror_mode": {
    "name": "ipython",
    "version": 3
   },
   "file_extension": ".py",
   "mimetype": "text/x-python",
   "name": "python",
   "nbconvert_exporter": "python",
   "pygments_lexer": "ipython3",
   "version": "3.12.4"
  }
 },
 "nbformat": 4,
 "nbformat_minor": 2
}
